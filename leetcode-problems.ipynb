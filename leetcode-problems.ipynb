{
 "cells": [
  {
   "cell_type": "code",
   "execution_count": 1,
   "id": "849c1b62",
   "metadata": {
    "_cell_guid": "b1076dfc-b9ad-4769-8c92-a6c4dae69d19",
    "_uuid": "8f2839f25d086af736a60e9eeb907d3b93b6e0e5",
    "execution": {
     "iopub.execute_input": "2024-07-03T06:18:46.741092Z",
     "iopub.status.busy": "2024-07-03T06:18:46.740703Z",
     "iopub.status.idle": "2024-07-03T06:18:47.593424Z",
     "shell.execute_reply": "2024-07-03T06:18:47.592393Z"
    },
    "papermill": {
     "duration": 0.868822,
     "end_time": "2024-07-03T06:18:47.595839",
     "exception": false,
     "start_time": "2024-07-03T06:18:46.727017",
     "status": "completed"
    },
    "tags": []
   },
   "outputs": [],
   "source": [
    "# This Python 3 environment comes with many helpful analytics libraries installed\n",
    "# It is defined by the kaggle/python Docker image: https://github.com/kaggle/docker-python\n",
    "# For example, here's several helpful packages to load\n",
    "\n",
    "import numpy as np # linear algebra\n",
    "import pandas as pd # data processing, CSV file I/O (e.g. pd.read_csv)\n",
    "\n",
    "# Input data files are available in the read-only \"../input/\" directory\n",
    "# For example, running this (by clicking run or pressing Shift+Enter) will list all files under the input directory\n",
    "\n",
    "import os\n",
    "for dirname, _, filenames in os.walk('/kaggle/input'):\n",
    "    for filename in filenames:\n",
    "        print(os.path.join(dirname, filename))\n",
    "\n",
    "# You can write up to 20GB to the current directory (/kaggle/working/) that gets preserved as output when you create a version using \"Save & Run All\" \n",
    "# You can also write temporary files to /kaggle/temp/, but they won't be saved outside of the current session"
   ]
  },
  {
   "cell_type": "code",
   "execution_count": 2,
   "id": "f78615c0",
   "metadata": {
    "execution": {
     "iopub.execute_input": "2024-07-03T06:18:47.621487Z",
     "iopub.status.busy": "2024-07-03T06:18:47.620445Z",
     "iopub.status.idle": "2024-07-03T06:18:48.017505Z",
     "shell.execute_reply": "2024-07-03T06:18:48.016191Z"
    },
    "papermill": {
     "duration": 0.411964,
     "end_time": "2024-07-03T06:18:48.019296",
     "exception": true,
     "start_time": "2024-07-03T06:18:47.607332",
     "status": "failed"
    },
    "tags": []
   },
   "outputs": [
    {
     "ename": "StdinNotImplementedError",
     "evalue": "raw_input was called, but this frontend does not support input requests.",
     "output_type": "error",
     "traceback": [
      "\u001b[0;31m---------------------------------------------------------------------------\u001b[0m",
      "\u001b[0;31mStdinNotImplementedError\u001b[0m                  Traceback (most recent call last)",
      "Cell \u001b[0;32mIn[2], line 10\u001b[0m\n\u001b[1;32m      8\u001b[0m         \u001b[38;5;28;01mreturn\u001b[39;00m \u001b[38;5;28;01mFalse\u001b[39;00m\n\u001b[1;32m      9\u001b[0m     \u001b[38;5;28;01mreturn\u001b[39;00m \u001b[38;5;28;01mTrue\u001b[39;00m\n\u001b[0;32m---> 10\u001b[0m nums\u001b[38;5;241m=\u001b[39m\u001b[38;5;28;43minput\u001b[39;49m\u001b[43m(\u001b[49m\u001b[43m)\u001b[49m\u001b[38;5;241m.\u001b[39msplit()\n\u001b[1;32m     11\u001b[0m nums\u001b[38;5;241m=\u001b[39m[\u001b[38;5;28mint\u001b[39m(i)\u001b[38;5;28;01mfor\u001b[39;00m i \u001b[38;5;129;01min\u001b[39;00m nums]\n\u001b[1;32m     12\u001b[0m r\u001b[38;5;241m=\u001b[39mcontainsduplicate(nums)\n",
      "File \u001b[0;32m/opt/conda/lib/python3.10/site-packages/ipykernel/kernelbase.py:1261\u001b[0m, in \u001b[0;36mKernel.raw_input\u001b[0;34m(self, prompt)\u001b[0m\n\u001b[1;32m   1259\u001b[0m \u001b[38;5;28;01mif\u001b[39;00m \u001b[38;5;129;01mnot\u001b[39;00m \u001b[38;5;28mself\u001b[39m\u001b[38;5;241m.\u001b[39m_allow_stdin:\n\u001b[1;32m   1260\u001b[0m     msg \u001b[38;5;241m=\u001b[39m \u001b[38;5;124m\"\u001b[39m\u001b[38;5;124mraw_input was called, but this frontend does not support input requests.\u001b[39m\u001b[38;5;124m\"\u001b[39m\n\u001b[0;32m-> 1261\u001b[0m     \u001b[38;5;28;01mraise\u001b[39;00m StdinNotImplementedError(msg)\n\u001b[1;32m   1262\u001b[0m \u001b[38;5;28;01mreturn\u001b[39;00m \u001b[38;5;28mself\u001b[39m\u001b[38;5;241m.\u001b[39m_input_request(\n\u001b[1;32m   1263\u001b[0m     \u001b[38;5;28mstr\u001b[39m(prompt),\n\u001b[1;32m   1264\u001b[0m     \u001b[38;5;28mself\u001b[39m\u001b[38;5;241m.\u001b[39m_parent_ident[\u001b[38;5;124m\"\u001b[39m\u001b[38;5;124mshell\u001b[39m\u001b[38;5;124m\"\u001b[39m],\n\u001b[1;32m   1265\u001b[0m     \u001b[38;5;28mself\u001b[39m\u001b[38;5;241m.\u001b[39mget_parent(\u001b[38;5;124m\"\u001b[39m\u001b[38;5;124mshell\u001b[39m\u001b[38;5;124m\"\u001b[39m),\n\u001b[1;32m   1266\u001b[0m     password\u001b[38;5;241m=\u001b[39m\u001b[38;5;28;01mFalse\u001b[39;00m,\n\u001b[1;32m   1267\u001b[0m )\n",
      "\u001b[0;31mStdinNotImplementedError\u001b[0m: raw_input was called, but this frontend does not support input requests."
     ]
    }
   ],
   "source": [
    "#Given an integer array nums, return true if any value appears at least twice in the array, and return false\n",
    "#if every element is distinct.\n",
    "\n",
    "def containsduplicate(nums):\n",
    "    n=len(nums)\n",
    "    k=set(nums)\n",
    "    if n==len(k):\n",
    "        return False\n",
    "    return True\n",
    "nums=input().split()\n",
    "nums=[int(i)for i in nums]\n",
    "r=containsduplicate(nums)\n",
    "print(r)"
   ]
  },
  {
   "cell_type": "code",
   "execution_count": null,
   "id": "fe478545",
   "metadata": {
    "execution": {
     "iopub.execute_input": "2024-04-26T13:39:52.247013Z",
     "iopub.status.busy": "2024-04-26T13:39:52.246629Z",
     "iopub.status.idle": "2024-04-26T13:40:35.310203Z",
     "shell.execute_reply": "2024-04-26T13:40:35.309228Z",
     "shell.execute_reply.started": "2024-04-26T13:39:52.246984Z"
    },
    "papermill": {
     "duration": null,
     "end_time": null,
     "exception": null,
     "start_time": null,
     "status": "pending"
    },
    "tags": []
   },
   "outputs": [],
   "source": [
    "#Given two strings s and t, return true if t is an anagram of s, and false otherwise.\n",
    "\n",
    "#An Anagram is a word or phrase formed by rearranging the letters of a different word or phrase, typically using all the original letters exactly once.\n",
    "def isanagram(s,t):\n",
    "    s=sorted(s)\n",
    "    t=sorted(t)\n",
    "    if s==t:\n",
    "        return True\n",
    "    return False\n",
    "s,t=input().split()\n",
    "r=isanagram(s,t)\n",
    "print(r)"
   ]
  },
  {
   "cell_type": "code",
   "execution_count": null,
   "id": "2014bd4d",
   "metadata": {
    "execution": {
     "iopub.execute_input": "2024-04-26T13:53:03.859740Z",
     "iopub.status.busy": "2024-04-26T13:53:03.859081Z",
     "iopub.status.idle": "2024-04-26T13:53:07.650666Z",
     "shell.execute_reply": "2024-04-26T13:53:07.649528Z",
     "shell.execute_reply.started": "2024-04-26T13:53:03.859706Z"
    },
    "papermill": {
     "duration": null,
     "end_time": null,
     "exception": null,
     "start_time": null,
     "status": "pending"
    },
    "tags": []
   },
   "outputs": [],
   "source": [
    "#Given an integer array nums of length n, you want to create an array ans of length 2n where ans[i] == nums[i] and ans[i + n] == nums[i] for 0 <= i < n (0-indexed).\n",
    "\n",
    "#Specifically, ans is the concatenation of two nums arrays.\n",
    "\n",
    "#Return the array ans.\n",
    "def concatenationarray(arr):\n",
    "    return arr+arr\n",
    "arr=input().split()\n",
    "arr=[int(i)for i in arr]\n",
    "r= concatenationarray(arr)\n",
    "print(r)"
   ]
  },
  {
   "cell_type": "code",
   "execution_count": null,
   "id": "1078f132",
   "metadata": {
    "execution": {
     "iopub.execute_input": "2024-04-28T13:08:22.665204Z",
     "iopub.status.busy": "2024-04-28T13:08:22.664694Z",
     "iopub.status.idle": "2024-04-28T13:08:37.342165Z",
     "shell.execute_reply": "2024-04-28T13:08:37.340813Z",
     "shell.execute_reply.started": "2024-04-28T13:08:22.665154Z"
    },
    "papermill": {
     "duration": null,
     "end_time": null,
     "exception": null,
     "start_time": null,
     "status": "pending"
    },
    "tags": []
   },
   "outputs": [],
   "source": [
    "#Given an array arr, replace every element in that array with the greatest element among the elements to its right, and replace the last element with -1.\n",
    "\n",
    "#After doing so, return the array.\n",
    "\n",
    "def replaceelement(arr):\n",
    "    n=len(arr)\n",
    "    max_val=-1\n",
    "    for i in range(-1,-n-1,-1):\n",
    "        temp=arr[i]\n",
    "        arr[i]=max_val\n",
    "        max_val=max(temp,max_val)\n",
    "    return arr\n",
    "arr=input().split()\n",
    "arr=[int(i)for i in arr]\n",
    "replaceelement(arr)"
   ]
  },
  {
   "cell_type": "code",
   "execution_count": null,
   "id": "1b068cfe",
   "metadata": {
    "execution": {
     "iopub.execute_input": "2024-04-28T13:24:06.796895Z",
     "iopub.status.busy": "2024-04-28T13:24:06.795914Z",
     "iopub.status.idle": "2024-04-28T13:24:11.238099Z",
     "shell.execute_reply": "2024-04-28T13:24:11.236743Z",
     "shell.execute_reply.started": "2024-04-28T13:24:06.796851Z"
    },
    "papermill": {
     "duration": null,
     "end_time": null,
     "exception": null,
     "start_time": null,
     "status": "pending"
    },
    "tags": []
   },
   "outputs": [],
   "source": [
    "#Given two strings s and t, return true if s is a subsequence of t, or false otherwise.\n",
    "\n",
    "#A subsequence of a string is a new string that is formed from the original string by deleting some (can be none) of the characters without \n",
    "\n",
    "#disturbing the relative positions of the remaining characters. (i.e., \"ace\" is a subsequence of \"abcde\" while \"aec\" is not).\n",
    "\n",
    "def issubsequence(s,t):\n",
    "    sub=\"\"\n",
    "    for i in range(len(t)):\n",
    "        if t[i]in s and t[i]==s[len(sub)]:\n",
    "            sub+=t[i]\n",
    "        if sub==s:\n",
    "            break\n",
    "    return sub==s\n",
    "s=input()\n",
    "t=input()\n",
    "r=issubsequence(s,t)\n",
    "print(r)"
   ]
  },
  {
   "cell_type": "code",
   "execution_count": null,
   "id": "a1310680",
   "metadata": {
    "execution": {
     "iopub.execute_input": "2024-04-28T13:27:56.176900Z",
     "iopub.status.busy": "2024-04-28T13:27:56.176515Z",
     "iopub.status.idle": "2024-04-28T13:28:04.059835Z",
     "shell.execute_reply": "2024-04-28T13:28:04.058791Z",
     "shell.execute_reply.started": "2024-04-28T13:27:56.176864Z"
    },
    "papermill": {
     "duration": null,
     "end_time": null,
     "exception": null,
     "start_time": null,
     "status": "pending"
    },
    "tags": []
   },
   "outputs": [],
   "source": [
    "#Given a string s consisting of words and spaces, return the length of the last word in the string.\n",
    "\n",
    "#A word is a maximal substring consisting of non-space characters only.\n",
    "def lenoflastword(s):\n",
    "    s=s.split()\n",
    "    return len(s[-1])\n",
    "s=input()\n",
    "lenoflastword(s)"
   ]
  },
  {
   "cell_type": "code",
   "execution_count": null,
   "id": "ee8a5056",
   "metadata": {
    "execution": {
     "iopub.execute_input": "2024-04-28T13:35:18.515948Z",
     "iopub.status.busy": "2024-04-28T13:35:18.515520Z",
     "iopub.status.idle": "2024-04-28T13:35:22.800454Z",
     "shell.execute_reply": "2024-04-28T13:35:22.799300Z",
     "shell.execute_reply.started": "2024-04-28T13:35:18.515916Z"
    },
    "papermill": {
     "duration": null,
     "end_time": null,
     "exception": null,
     "start_time": null,
     "status": "pending"
    },
    "tags": []
   },
   "outputs": [],
   "source": [
    "#Given an array of integers nums and an integer target, return indices of the two numbers such that they add up to target.\n",
    "\n",
    "def twosum(nums,target):\n",
    "    for i in range(len(nums)):\n",
    "        for j in range(i+1,len(nums)):\n",
    "            if nums[i]+nums[j]==target:\n",
    "                return i,j\n",
    "nums=input().split()\n",
    "nums=[int(i)for i in nums]\n",
    "target=int(input())\n",
    "twosum(nums,target)\n"
   ]
  },
  {
   "cell_type": "code",
   "execution_count": null,
   "id": "bd49b5b8",
   "metadata": {
    "execution": {
     "iopub.execute_input": "2024-04-28T13:47:42.255922Z",
     "iopub.status.busy": "2024-04-28T13:47:42.254885Z",
     "iopub.status.idle": "2024-04-28T13:48:11.504717Z",
     "shell.execute_reply": "2024-04-28T13:48:11.503581Z",
     "shell.execute_reply.started": "2024-04-28T13:47:42.255882Z"
    },
    "papermill": {
     "duration": null,
     "end_time": null,
     "exception": null,
     "start_time": null,
     "status": "pending"
    },
    "tags": []
   },
   "outputs": [],
   "source": [
    "#Given an array of strings strs, group the anagrams together. You can return the answer in any order.\n",
    "\n",
    "def groupanagrams(strs):\n",
    "    anagrams={}\n",
    "    for i in strs:\n",
    "        s_words=''.join(sorted(i))\n",
    "        if s_words in anagrams:\n",
    "            anagrams[s_words].append(i)\n",
    "        else:\n",
    "            anagrams[s_words]=[i]\n",
    "    return list(anagrams.values())\n",
    "strs=input().split()\n",
    "groupanagrams(strs)"
   ]
  },
  {
   "cell_type": "code",
   "execution_count": null,
   "id": "c1956157",
   "metadata": {
    "execution": {
     "iopub.execute_input": "2024-04-28T13:59:16.879873Z",
     "iopub.status.busy": "2024-04-28T13:59:16.879452Z",
     "iopub.status.idle": "2024-04-28T13:59:20.940197Z",
     "shell.execute_reply": "2024-04-28T13:59:20.939076Z",
     "shell.execute_reply.started": "2024-04-28T13:59:16.879837Z"
    },
    "papermill": {
     "duration": null,
     "end_time": null,
     "exception": null,
     "start_time": null,
     "status": "pending"
    },
    "tags": []
   },
   "outputs": [],
   "source": [
    "#Given an integer array nums and an integer val, remove all occurrences of val in nums in-place. The order of the elements may be changed. \n",
    "\n",
    "#Then return the number of elements in nums which are not equal to val.\n",
    "\n",
    "def removeElement(nums,val):\n",
    "    k=0\n",
    "    for i in range(len(nums)):\n",
    "        if nums[i]!=val:\n",
    "            nums[k]=nums[i]\n",
    "            k+=1\n",
    "    return nums[:k]\n",
    "nums=input().split()\n",
    "nums=[int(i)for i in nums]\n",
    "val=int(input())\n",
    "removeElement(nums,val)"
   ]
  },
  {
   "cell_type": "code",
   "execution_count": null,
   "id": "5d4a3cc7",
   "metadata": {
    "execution": {
     "iopub.execute_input": "2024-04-28T14:07:52.475292Z",
     "iopub.status.busy": "2024-04-28T14:07:52.474812Z",
     "iopub.status.idle": "2024-04-28T14:08:18.689091Z",
     "shell.execute_reply": "2024-04-28T14:08:18.687919Z",
     "shell.execute_reply.started": "2024-04-28T14:07:52.475256Z"
    },
    "papermill": {
     "duration": null,
     "end_time": null,
     "exception": null,
     "start_time": null,
     "status": "pending"
    },
    "tags": []
   },
   "outputs": [],
   "source": [
    "#Every valid email consists of a local name and a domain name, separated by the '@' sign. Besides lowercase letters, the email may contain one or more '.' or '+'.\n",
    "\n",
    "def uniqueEmails(emails):\n",
    "    for i in range(len(emails)):\n",
    "        temp=emails[i].split('@')\n",
    "        x=''\n",
    "        for j in temp[0]:\n",
    "            if j=='.':\n",
    "                continue\n",
    "            elif j=='+':\n",
    "                break\n",
    "            else:\n",
    "                x+=j\n",
    "        emails[i]=x+'@'+temp[1]\n",
    "    return len(set(emails))\n",
    "emails=input().split()\n",
    "uniqueEmails(emails)"
   ]
  },
  {
   "cell_type": "code",
   "execution_count": null,
   "id": "7fd3aa97",
   "metadata": {
    "execution": {
     "iopub.execute_input": "2024-04-28T14:21:28.234809Z",
     "iopub.status.busy": "2024-04-28T14:21:28.234380Z",
     "iopub.status.idle": "2024-04-28T14:21:31.462769Z",
     "shell.execute_reply": "2024-04-28T14:21:31.460310Z",
     "shell.execute_reply.started": "2024-04-28T14:21:28.234775Z"
    },
    "papermill": {
     "duration": null,
     "end_time": null,
     "exception": null,
     "start_time": null,
     "status": "pending"
    },
    "tags": []
   },
   "outputs": [],
   "source": [
    "#Given two strings s and t, determine if they are isomorphic.Two strings s and t are isomorphic if the characters in s can be replaced to get t.\n",
    "\n",
    "def isomorphicstring(s,t):\n",
    "    z=zip(s,t)\n",
    "    if len(set(z))==len(set(s))==len(set(t)):\n",
    "        return True\n",
    "    return False\n",
    "s,t=input().split()\n",
    "isomorphicstring(s,t)"
   ]
  },
  {
   "cell_type": "code",
   "execution_count": null,
   "id": "bd7f813e",
   "metadata": {
    "execution": {
     "iopub.execute_input": "2024-04-28T14:35:08.194399Z",
     "iopub.status.busy": "2024-04-28T14:35:08.193968Z",
     "iopub.status.idle": "2024-04-28T14:35:17.878972Z",
     "shell.execute_reply": "2024-04-28T14:35:17.877712Z",
     "shell.execute_reply.started": "2024-04-28T14:35:08.194368Z"
    },
    "papermill": {
     "duration": null,
     "end_time": null,
     "exception": null,
     "start_time": null,
     "status": "pending"
    },
    "tags": []
   },
   "outputs": [],
   "source": [
    "#Given an array nums of size n, return the majority element.\n",
    "\n",
    "#The majority element is the element that appears more than ⌊n / 2⌋ times. You may assume that the majority element always exists in the array.\n",
    "\n",
    "def majorityElement(nums):\n",
    "    nums.sort()\n",
    "    return nums[len(nums)//2]\n",
    "nums=input().split()\n",
    "nums=[int(i)for i in nums]\n",
    "majorityElement(nums)"
   ]
  },
  {
   "cell_type": "code",
   "execution_count": null,
   "id": "df8b0951",
   "metadata": {
    "execution": {
     "iopub.execute_input": "2024-04-28T14:58:24.454697Z",
     "iopub.status.busy": "2024-04-28T14:58:24.454301Z",
     "iopub.status.idle": "2024-04-28T14:58:29.979823Z",
     "shell.execute_reply": "2024-04-28T14:58:29.978729Z",
     "shell.execute_reply.started": "2024-04-28T14:58:24.454656Z"
    },
    "papermill": {
     "duration": null,
     "end_time": null,
     "exception": null,
     "start_time": null,
     "status": "pending"
    },
    "tags": []
   },
   "outputs": [],
   "source": [
    "#Given an array of integers nums, calculate the pivot index of this array.\n",
    "\n",
    "#The pivot index is the index where the sum of all the numbers strictly to the left of the index is equal to the sum of all the numbers strictly to the index's right.\n",
    "\n",
    "#If the index is on the left edge of the array, then the left sum is 0 because there are no elements to the left. This also applies to the right edge of the array.\n",
    "\n",
    "#Return the leftmost pivot index. If no such index exists, return -1.\n",
    "\n",
    "def pivot_index(nums):\n",
    "    total_sum=sum(nums)\n",
    "    left_sum=0\n",
    "    index=0\n",
    "    for i in nums:\n",
    "        if left_sum==total_sum-left_sum-i:\n",
    "            return index\n",
    "        left_sum+=i\n",
    "        index+=1\n",
    "    return -1\n",
    "nums=input().split()\n",
    "nums=[int(i)for i in nums]\n",
    "pivot_index(nums)"
   ]
  },
  {
   "cell_type": "code",
   "execution_count": null,
   "id": "f35e3127",
   "metadata": {
    "execution": {
     "iopub.execute_input": "2024-04-28T15:56:58.734942Z",
     "iopub.status.busy": "2024-04-28T15:56:58.734563Z",
     "iopub.status.idle": "2024-04-28T15:57:01.819132Z",
     "shell.execute_reply": "2024-04-28T15:57:01.817999Z",
     "shell.execute_reply.started": "2024-04-28T15:56:58.734911Z"
    },
    "papermill": {
     "duration": null,
     "end_time": null,
     "exception": null,
     "start_time": null,
     "status": "pending"
    },
    "tags": []
   },
   "outputs": [],
   "source": [
    "#Given an array nums of n integers where nums[i] is in the range [1, n], return an array of all the integers in the range [1, n] that do not appear in nums.\n",
    "\n",
    "def missingnumber(nums):\n",
    "    a=set(range(1,len(nums)+1))\n",
    "    b=set(nums)\n",
    "    return list(a-b)\n",
    "nums=input().split(',')\n",
    "nums=[int(i)for i in nums]\n",
    "missingnumber(nums)"
   ]
  },
  {
   "cell_type": "code",
   "execution_count": null,
   "id": "d6533852",
   "metadata": {
    "execution": {
     "iopub.execute_input": "2024-04-28T16:19:23.935306Z",
     "iopub.status.busy": "2024-04-28T16:19:23.934850Z",
     "iopub.status.idle": "2024-04-28T16:19:27.079208Z",
     "shell.execute_reply": "2024-04-28T16:19:27.078074Z",
     "shell.execute_reply.started": "2024-04-28T16:19:23.935270Z"
    },
    "papermill": {
     "duration": null,
     "end_time": null,
     "exception": null,
     "start_time": null,
     "status": "pending"
    },
    "tags": []
   },
   "outputs": [],
   "source": [
    "#Given a string text, you want to use the characters of text to form as many instances of the word \"balloon\" as possible.\n",
    "def maxballoons(text):\n",
    "    word={'a':0,'b':0,'l':0,'o':0,'n':0}\n",
    "    double_char={'l','o'}\n",
    "    for i in text:\n",
    "        if i in word:\n",
    "            word[i]+=1\n",
    "    for i in double_char:\n",
    "        word[i]//=2\n",
    "    return min(word.values())\n",
    "text=input()\n",
    "maxballoons(text)"
   ]
  },
  {
   "cell_type": "code",
   "execution_count": null,
   "id": "de05a1fa",
   "metadata": {
    "execution": {
     "iopub.execute_input": "2024-04-28T16:27:38.135260Z",
     "iopub.status.busy": "2024-04-28T16:27:38.134835Z",
     "iopub.status.idle": "2024-04-28T16:27:55.279634Z",
     "shell.execute_reply": "2024-04-28T16:27:55.278452Z",
     "shell.execute_reply.started": "2024-04-28T16:27:38.135227Z"
    },
    "papermill": {
     "duration": null,
     "end_time": null,
     "exception": null,
     "start_time": null,
     "status": "pending"
    },
    "tags": []
   },
   "outputs": [],
   "source": [
    "#Given a pattern and a string s, find if s follows the same pattern.\n",
    "\n",
    "#Here follow means a full match, such that there is a bijection between a letter in pattern and a non-empty word in s.\n",
    "\n",
    "def wordpattern(pattern,s):\n",
    "    a=pattern\n",
    "    b=s.split()\n",
    "    return len(set(zip(a,b)))==len(set(a))==len(set(b))and len(a)==len(b)\n",
    "pattern=input()\n",
    "s=input()\n",
    "wordpattern(pattern,s)\n"
   ]
  },
  {
   "cell_type": "code",
   "execution_count": null,
   "id": "d931787f",
   "metadata": {
    "execution": {
     "iopub.execute_input": "2024-04-28T16:44:24.018193Z",
     "iopub.status.busy": "2024-04-28T16:44:24.017184Z",
     "iopub.status.idle": "2024-04-28T16:44:29.879740Z",
     "shell.execute_reply": "2024-04-28T16:44:29.878589Z",
     "shell.execute_reply.started": "2024-04-28T16:44:24.018154Z"
    },
    "papermill": {
     "duration": null,
     "end_time": null,
     "exception": null,
     "start_time": null,
     "status": "pending"
    },
    "tags": []
   },
   "outputs": [],
   "source": [
    "#Given two 0-indexed integer arrays nums1 and nums2, return a list answer of size 2 where:\n",
    "\n",
    "#answer[0] is a list of all distinct integers in nums1 which are not present in nums2.\n",
    "\n",
    "#answer[1] is a list of all distinct integers in nums2 which are not present in nums1.\n",
    "\n",
    "def difftwoarr(nums1,nums2):\n",
    "    nums1=set(nums1)\n",
    "    nums2=set(nums2)\n",
    "    res1,res2=set(),set()\n",
    "    for i in nums1:\n",
    "        if i not in nums2:\n",
    "            res1.add(i)\n",
    "    for i in nums2:\n",
    "        if i not in nums1:\n",
    "            res2.add(i)\n",
    "    return [list(res1),list(res2)]\n",
    "nums1=input().split()\n",
    "nums1=[int(i)for i in nums1]\n",
    "nums2=input().split()\n",
    "nums2=[int(i)for i in nums2]\n",
    "difftwoarr(nums1,nums2)"
   ]
  },
  {
   "cell_type": "code",
   "execution_count": null,
   "id": "5fc57cbd",
   "metadata": {
    "execution": {
     "iopub.execute_input": "2024-04-29T14:27:26.066902Z",
     "iopub.status.busy": "2024-04-29T14:27:26.066461Z",
     "iopub.status.idle": "2024-04-29T14:27:29.689223Z",
     "shell.execute_reply": "2024-04-29T14:27:29.687730Z",
     "shell.execute_reply.started": "2024-04-29T14:27:26.066866Z"
    },
    "papermill": {
     "duration": null,
     "end_time": null,
     "exception": null,
     "start_time": null,
     "status": "pending"
    },
    "tags": []
   },
   "outputs": [],
   "source": [
    "#Given an array of integers nums, sort the array in ascending order and return it.\n",
    "\n",
    "def sortarray(nums):\n",
    "    if len(nums)>1:\n",
    "        mid=len(nums)//2\n",
    "        a=nums[:mid]\n",
    "        b=nums[mid:]\n",
    "        sortarray(a)\n",
    "        sortarray(b)\n",
    "        i=j=k=0\n",
    "        while i<len(a) and j<len(b):\n",
    "            if a[i]<b[j]:\n",
    "                nums[k]=a[i]\n",
    "                i+=1\n",
    "                k+=1\n",
    "            else:\n",
    "                nums[k]=b[j]\n",
    "                j+=1\n",
    "                k+=1\n",
    "        while i<len(a):\n",
    "            nums[k]=a[i]\n",
    "            i+=1\n",
    "            k+=1\n",
    "        while j<len(b):\n",
    "            nums[k]=b[j]\n",
    "            j+=1\n",
    "            k+=1\n",
    "    return nums\n",
    "nums=input().split()\n",
    "nums=[int(i)for i in nums]\n",
    "r=sortarray(nums)\n",
    "print(r)"
   ]
  },
  {
   "cell_type": "code",
   "execution_count": null,
   "id": "716bc65c",
   "metadata": {
    "execution": {
     "iopub.execute_input": "2024-04-29T14:50:39.815665Z",
     "iopub.status.busy": "2024-04-29T14:50:39.815293Z",
     "iopub.status.idle": "2024-04-29T14:50:52.180687Z",
     "shell.execute_reply": "2024-04-29T14:50:52.179747Z",
     "shell.execute_reply.started": "2024-04-29T14:50:39.815637Z"
    },
    "papermill": {
     "duration": null,
     "end_time": null,
     "exception": null,
     "start_time": null,
     "status": "pending"
    },
    "tags": []
   },
   "outputs": [],
   "source": [
    "#Given an array nums with n objects colored red, white, or blue, sort them in-place so that objects of the same color are adjacent, \n",
    "\n",
    "#with the colors in the order red, white, and blue.\n",
    "\n",
    "def sortcolors(nums):\n",
    "    n=len(nums)\n",
    "    for i in range(n):\n",
    "        min=i\n",
    "        for j in range(i+1,n):\n",
    "            if nums[min]>nums[j]:\n",
    "                min=j\n",
    "        nums[i],nums[min]=nums[min],nums[i]\n",
    "    return nums\n",
    "nums=input().split()\n",
    "nums=[int(i)for i in nums]\n",
    "sortcolors(nums)"
   ]
  },
  {
   "cell_type": "code",
   "execution_count": null,
   "id": "f1b17f75",
   "metadata": {
    "execution": {
     "iopub.execute_input": "2024-04-29T15:17:25.206331Z",
     "iopub.status.busy": "2024-04-29T15:17:25.205902Z",
     "iopub.status.idle": "2024-04-29T15:17:27.253185Z",
     "shell.execute_reply": "2024-04-29T15:17:27.251845Z",
     "shell.execute_reply.started": "2024-04-29T15:17:25.206296Z"
    },
    "papermill": {
     "duration": null,
     "end_time": null,
     "exception": null,
     "start_time": null,
     "status": "pending"
    },
    "tags": []
   },
   "outputs": [],
   "source": [
    "#Given a list of non-negative integers nums, arrange them such that they form the largest number and return it.\n",
    "\n",
    "def largestnum(nums):\n",
    "    n=len(nums)\n",
    "    for i in range(n,0,-1):\n",
    "        for j in range(i-1):\n",
    "            if str(nums[j])+str(nums[j+1])<str(nums[j+1])+str(nums[j]):\n",
    "                nums[j],nums[j+1]=nums[j+1],nums[j]\n",
    "    return str(int(''.join(map(str,nums))))\n",
    "nums=input().split()\n",
    "nums=[int(i)for i in nums]\n",
    "largestnum(nums)"
   ]
  },
  {
   "cell_type": "code",
   "execution_count": null,
   "id": "312f4a4d",
   "metadata": {
    "execution": {
     "iopub.execute_input": "2024-04-29T15:45:19.065841Z",
     "iopub.status.busy": "2024-04-29T15:45:19.065474Z",
     "iopub.status.idle": "2024-04-29T15:45:23.231359Z",
     "shell.execute_reply": "2024-04-29T15:45:23.230072Z",
     "shell.execute_reply.started": "2024-04-29T15:45:19.065812Z"
    },
    "papermill": {
     "duration": null,
     "end_time": null,
     "exception": null,
     "start_time": null,
     "status": "pending"
    },
    "tags": []
   },
   "outputs": [],
   "source": [
    "#Given a string s containing just the characters '(', ')', '{', '}', '[' and ']', determine if the input string is valid.\n",
    "\n",
    "def isvalid(s):\n",
    "    st=[]\n",
    "    d={\"(\":\")\",\"[\":\"]\",\"{\":\"}\"}\n",
    "    for i in s:\n",
    "        if i in d.keys():\n",
    "            st.append(i)\n",
    "        else:\n",
    "            if st==[]:\n",
    "                return False\n",
    "            else:\n",
    "                if d[st[-1]]==i:\n",
    "                    st.pop()\n",
    "                else:\n",
    "                    return False\n",
    "    return not st\n",
    "s=input()\n",
    "isvalid(s)"
   ]
  },
  {
   "cell_type": "code",
   "execution_count": null,
   "id": "a8e487bf",
   "metadata": {
    "execution": {
     "iopub.execute_input": "2024-04-30T16:17:38.022689Z",
     "iopub.status.busy": "2024-04-30T16:17:38.022250Z",
     "iopub.status.idle": "2024-04-30T16:17:41.157399Z",
     "shell.execute_reply": "2024-04-30T16:17:41.156182Z",
     "shell.execute_reply.started": "2024-04-30T16:17:38.022654Z"
    },
    "papermill": {
     "duration": null,
     "end_time": null,
     "exception": null,
     "start_time": null,
     "status": "pending"
    },
    "tags": []
   },
   "outputs": [],
   "source": [
    "#A phrase is a palindrome if, after converting all uppercase letters into lowercase letters and removing all non-alphanumeric characters, it reads the same forward and backward. Alphanumeric characters include letters and numbers.\n",
    "\n",
    "#Given a string s, return true if it is a palindrome, or false otherwise.\n",
    "\n",
    "def ispalindrome(s):\n",
    "    s=s.lower()\n",
    "    for i in s:\n",
    "        if False==i.isalnum():\n",
    "            s=s.replace(i,\"\")\n",
    "    if s==s[::-1]:\n",
    "        return True\n",
    "    return False\n",
    "s=input()\n",
    "ispalindrome(s)"
   ]
  },
  {
   "cell_type": "code",
   "execution_count": null,
   "id": "479696c4",
   "metadata": {
    "execution": {
     "iopub.execute_input": "2024-04-30T04:37:14.753035Z",
     "iopub.status.busy": "2024-04-30T04:37:14.752562Z",
     "iopub.status.idle": "2024-04-30T04:37:16.328385Z",
     "shell.execute_reply": "2024-04-30T04:37:16.327208Z",
     "shell.execute_reply.started": "2024-04-30T04:37:14.752998Z"
    },
    "papermill": {
     "duration": null,
     "end_time": null,
     "exception": null,
     "start_time": null,
     "status": "pending"
    },
    "tags": []
   },
   "outputs": [],
   "source": [
    "#Write an algorithm to determine if a number n is happy.\n",
    "\n",
    "def happyno(n):\n",
    "    s=str(n)\n",
    "    count=0\n",
    "    for i in s:\n",
    "        count+=int(i)*int(i)\n",
    "    if count==1:\n",
    "        return True\n",
    "    elif n==4:\n",
    "        return False\n",
    "    return happyno(count)\n",
    "n=int(input())\n",
    "happyno(n)"
   ]
  },
  {
   "cell_type": "code",
   "execution_count": null,
   "id": "da08b602",
   "metadata": {
    "execution": {
     "iopub.execute_input": "2024-04-30T16:18:51.703514Z",
     "iopub.status.busy": "2024-04-30T16:18:51.703087Z",
     "iopub.status.idle": "2024-04-30T16:18:58.747376Z",
     "shell.execute_reply": "2024-04-30T16:18:58.745982Z",
     "shell.execute_reply.started": "2024-04-30T16:18:51.703482Z"
    },
    "papermill": {
     "duration": null,
     "end_time": null,
     "exception": null,
     "start_time": null,
     "status": "pending"
    },
    "tags": []
   },
   "outputs": [],
   "source": [
    "#Given two strings needle and haystack, return the index of the first occurrence of needle in haystack, or -1 if needle is not part of haystack.\n",
    "def str(haystack,needle):\n",
    "    r=len(needle)\n",
    "    for i in range(len(haystack)):\n",
    "        if haystack[i:i+r]==needle:\n",
    "            return i\n",
    "    return -1\n",
    "haystack=input()\n",
    "needle=input()\n",
    "str(haystack,needle)"
   ]
  },
  {
   "cell_type": "code",
   "execution_count": null,
   "id": "046aefd5",
   "metadata": {
    "execution": {
     "iopub.execute_input": "2024-04-30T17:27:29.312990Z",
     "iopub.status.busy": "2024-04-30T17:27:29.312633Z",
     "iopub.status.idle": "2024-04-30T17:27:33.765852Z",
     "shell.execute_reply": "2024-04-30T17:27:33.764753Z",
     "shell.execute_reply.started": "2024-04-30T17:27:29.312960Z"
    },
    "papermill": {
     "duration": null,
     "end_time": null,
     "exception": null,
     "start_time": null,
     "status": "pending"
    },
    "tags": []
   },
   "outputs": [],
   "source": [
    "#A phrase is a palindrome if, after converting all uppercase letters into lowercase letters and removing all non-alphanumeric characters, it reads the same forward and backward. Alphanumeric characters include letters and numbers.\n",
    "\n",
    "#Given a string s, return true if it is a palindrome, or false otherwise.\n",
    "\n",
    "def ispalindrome(s):\n",
    "    s=s.lower()\n",
    "    for i in s:\n",
    "        if False==i.isalnum():\n",
    "            s=s.replace(i,\"\")\n",
    "    if s==s[::-1]:\n",
    "        return True\n",
    "    return False\n",
    "s=input()\n",
    "ispalindrome(s)"
   ]
  },
  {
   "cell_type": "code",
   "execution_count": null,
   "id": "f28ba33e",
   "metadata": {
    "execution": {
     "iopub.execute_input": "2024-04-30T17:50:55.144674Z",
     "iopub.status.busy": "2024-04-30T17:50:55.144249Z",
     "iopub.status.idle": "2024-04-30T17:51:14.650110Z",
     "shell.execute_reply": "2024-04-30T17:51:14.649299Z",
     "shell.execute_reply.started": "2024-04-30T17:50:55.144642Z"
    },
    "papermill": {
     "duration": null,
     "end_time": null,
     "exception": null,
     "start_time": null,
     "status": "pending"
    },
    "tags": []
   },
   "outputs": [],
   "source": [
    "#Given an integer array nums sorted in non-decreasing order, remove the duplicates in-place such that each unique element appears only once. The relative order of the elements should be kept the same. Then return the number of unique elements in nums.\n",
    "\n",
    "def removedup(nums):\n",
    "    nums[:]=sorted(set(nums))\n",
    "    return len(nums)\n",
    "nums=input().split()\n",
    "nums=[int(i)for i in nums]\n",
    "removedup(nums)"
   ]
  },
  {
   "cell_type": "code",
   "execution_count": null,
   "id": "ede95d44",
   "metadata": {
    "execution": {
     "iopub.execute_input": "2024-05-01T10:32:52.942243Z",
     "iopub.status.busy": "2024-05-01T10:32:52.941788Z",
     "iopub.status.idle": "2024-05-01T10:32:58.545986Z",
     "shell.execute_reply": "2024-05-01T10:32:58.544567Z",
     "shell.execute_reply.started": "2024-05-01T10:32:52.942208Z"
    },
    "papermill": {
     "duration": null,
     "end_time": null,
     "exception": null,
     "start_time": null,
     "status": "pending"
    },
    "tags": []
   },
   "outputs": [],
   "source": [
    "#Given two sorted arrays nums1 and nums2 of size m and n respectively, return the median of the two sorted arrays.\n",
    "def median_arr(nums1,nums2):\n",
    "    ans=sorted(nums1+nums2)\n",
    "    r=len(ans)\n",
    "    if r%2==0:\n",
    "        return (ans[r//2-1]+ans[r//2])/2\n",
    "    return ans[r//2]\n",
    "nums1=input().split()\n",
    "nums1=[int(i)for i in nums1]\n",
    "nums2=input().split()\n",
    "nums2=[int(j)for j in nums2]\n",
    "print(median_arr(nums1,nums2))"
   ]
  },
  {
   "cell_type": "code",
   "execution_count": null,
   "id": "010d4863",
   "metadata": {
    "execution": {
     "iopub.execute_input": "2024-05-01T15:21:32.221680Z",
     "iopub.status.busy": "2024-05-01T15:21:32.220648Z",
     "iopub.status.idle": "2024-05-01T15:21:42.798228Z",
     "shell.execute_reply": "2024-05-01T15:21:42.797172Z",
     "shell.execute_reply.started": "2024-05-01T15:21:32.221638Z"
    },
    "papermill": {
     "duration": null,
     "end_time": null,
     "exception": null,
     "start_time": null,
     "status": "pending"
    },
    "tags": []
   },
   "outputs": [],
   "source": [
    "#Given an array of integers nums which is sorted in ascending order, and an integer target, write a function to search target in nums.\n",
    "#If target exists, then return its index. Otherwise, return -1.\n",
    "\n",
    "def binary_search(nums,target):\n",
    "    l=0\n",
    "    u=len(nums)-1\n",
    "    while l<=u:\n",
    "        mid=(l+u)//2\n",
    "        if nums[mid]==target:\n",
    "            return mid\n",
    "        elif nums[mid]<target:\n",
    "            l=mid+1\n",
    "        else:\n",
    "            u=mid-1\n",
    "    return -1\n",
    "nums=input().split()\n",
    "nums=[int(i)for i in nums]\n",
    "target=int(input())\n",
    "binary_search(nums,target)"
   ]
  },
  {
   "cell_type": "code",
   "execution_count": null,
   "id": "574d9b61",
   "metadata": {
    "execution": {
     "iopub.execute_input": "2024-05-01T16:26:11.450080Z",
     "iopub.status.busy": "2024-05-01T16:26:11.449336Z",
     "iopub.status.idle": "2024-05-01T16:26:16.753162Z",
     "shell.execute_reply": "2024-05-01T16:26:16.752111Z",
     "shell.execute_reply.started": "2024-05-01T16:26:11.450036Z"
    },
    "papermill": {
     "duration": null,
     "end_time": null,
     "exception": null,
     "start_time": null,
     "status": "pending"
    },
    "tags": []
   },
   "outputs": [],
   "source": [
    "#Given a sorted array of distinct integers and a target value, return the index if the target is found. If not, \n",
    "#return the index where it would be if it were inserted in order.\n",
    "\n",
    "def searchInsert(nums,target):\n",
    "    l=0\n",
    "    u=len(nums)-1\n",
    "    while l<=u:\n",
    "        mid=l+(u-l)//2\n",
    "        if nums[mid]==target:\n",
    "            return mid\n",
    "        elif nums[mid]<target:\n",
    "            l=mid+1\n",
    "        else:\n",
    "            u=mid-1\n",
    "    return l\n",
    "nums=input().split()\n",
    "nums=[int(i)for i in nums]\n",
    "target=int(input())\n",
    "searchInsert(nums,target)"
   ]
  },
  {
   "cell_type": "code",
   "execution_count": null,
   "id": "7fdac8af",
   "metadata": {
    "execution": {
     "iopub.execute_input": "2024-05-02T04:38:51.993741Z",
     "iopub.status.busy": "2024-05-02T04:38:51.992968Z",
     "iopub.status.idle": "2024-05-02T04:38:55.143059Z",
     "shell.execute_reply": "2024-05-02T04:38:55.141802Z",
     "shell.execute_reply.started": "2024-05-02T04:38:51.993705Z"
    },
    "papermill": {
     "duration": null,
     "end_time": null,
     "exception": null,
     "start_time": null,
     "status": "pending"
    },
    "tags": []
   },
   "outputs": [],
   "source": [
    "#Given a string s, return true if the s can be palindrome after deleting at most one character from it.\n",
    "\n",
    "def validpalindromeII(s):\n",
    "    l=0\n",
    "    r=len(s)-1\n",
    "    while l<r:\n",
    "        if s[l]==s[r]:\n",
    "            l+=1\n",
    "            r-=1\n",
    "        else:\n",
    "            a=s[l+1:r+1]\n",
    "            b=s[l:r]\n",
    "            if a==a[::-1]or b==b[::-1]:\n",
    "                return True\n",
    "            else:\n",
    "                return False\n",
    "    return True\n",
    "s=input()\n",
    "validpalindromeII(s) #here we have taken an abca example..and it will become a palindrome cause we can delete a string 'c' which is located on 2nd index position\n",
    "                     #then it will become a plaindrome"
   ]
  },
  {
   "cell_type": "code",
   "execution_count": null,
   "id": "302ab59f",
   "metadata": {
    "execution": {
     "iopub.execute_input": "2024-05-02T04:51:44.906914Z",
     "iopub.status.busy": "2024-05-02T04:51:44.906054Z",
     "iopub.status.idle": "2024-05-02T04:51:50.115889Z",
     "shell.execute_reply": "2024-05-02T04:51:50.114823Z",
     "shell.execute_reply.started": "2024-05-02T04:51:44.906385Z"
    },
    "papermill": {
     "duration": null,
     "end_time": null,
     "exception": null,
     "start_time": null,
     "status": "pending"
    },
    "tags": []
   },
   "outputs": [],
   "source": [
    "#You are given two strings word1 and word2. Merge the strings by adding letters in alternating order, starting with word1. If a string is longer than the other, append the additional letters onto the end of the merged string.\n",
    "\n",
    "#Return the merged string.\n",
    "\n",
    "def mergestringalternatively(s1,s2):\n",
    "    res=[]\n",
    "    i=0\n",
    "    while i<len(s1)or i<len(s2):\n",
    "        if i<len(s1):\n",
    "            res.append(s1[i])\n",
    "        if i<len(s2):\n",
    "            res.append(s2[i])\n",
    "        i+=1\n",
    "    return ''.join(res)\n",
    "s1=input()\n",
    "s2=input()\n",
    "mergestringalternatively(s1,s2)"
   ]
  },
  {
   "cell_type": "code",
   "execution_count": null,
   "id": "3ec5d0fb",
   "metadata": {
    "execution": {
     "iopub.execute_input": "2024-05-02T05:47:40.554411Z",
     "iopub.status.busy": "2024-05-02T05:47:40.553965Z",
     "iopub.status.idle": "2024-05-02T05:47:57.181857Z",
     "shell.execute_reply": "2024-05-02T05:47:57.180648Z",
     "shell.execute_reply.started": "2024-05-02T05:47:40.554380Z"
    },
    "papermill": {
     "duration": null,
     "end_time": null,
     "exception": null,
     "start_time": null,
     "status": "pending"
    },
    "tags": []
   },
   "outputs": [],
   "source": [
    "#Given an integer array nums sorted in non-decreasing order, remove some duplicates in-place such that each unique element appears at most twice. \n",
    "#The relative order of the elements should be kept the same.\n",
    "\n",
    "def removeDuplicateArr(nums):\n",
    "    i=0\n",
    "    while i+2<len(nums):\n",
    "        if nums[i]==nums[i+2]:\n",
    "            nums.pop(i+2)\n",
    "        else:\n",
    "            i+=1\n",
    "        print(nums)\n",
    "    return len(nums)\n",
    "nums=input().split()\n",
    "nums=[int(i)for i in nums]\n",
    "removeDuplicateArr(nums)"
   ]
  },
  {
   "cell_type": "code",
   "execution_count": null,
   "id": "9bd833aa",
   "metadata": {
    "execution": {
     "iopub.execute_input": "2024-05-02T06:08:52.627286Z",
     "iopub.status.busy": "2024-05-02T06:08:52.625703Z",
     "iopub.status.idle": "2024-05-02T06:09:03.402690Z",
     "shell.execute_reply": "2024-05-02T06:09:03.401376Z",
     "shell.execute_reply.started": "2024-05-02T06:08:52.627222Z"
    },
    "papermill": {
     "duration": null,
     "end_time": null,
     "exception": null,
     "start_time": null,
     "status": "pending"
    },
    "tags": []
   },
   "outputs": [],
   "source": [
    "#Given a 1-indexed array of integers numbers that is already sorted in non-decreasing order, \n",
    "#find two numbers such that they add up to a specific target number\n",
    "\n",
    "def twosumII(nums,target):\n",
    "    i=0\n",
    "    j=len(nums)-1\n",
    "    while i<j:\n",
    "        s=nums[i]+nums[j]\n",
    "        if s==target:\n",
    "            return [i+1,j+1]\n",
    "        else:\n",
    "            if s<target:\n",
    "                i=i+1\n",
    "            else:\n",
    "                j=j-1\n",
    "    return [i+1,j+1]\n",
    "nums=input().split()\n",
    "nums=[int(i)for i in nums]\n",
    "target=int(input())\n",
    "twosumII(nums,target)"
   ]
  },
  {
   "cell_type": "code",
   "execution_count": null,
   "id": "11fd23e2",
   "metadata": {
    "execution": {
     "iopub.execute_input": "2024-05-06T07:25:44.541926Z",
     "iopub.status.busy": "2024-05-06T07:25:44.541534Z",
     "iopub.status.idle": "2024-05-06T07:25:49.524383Z",
     "shell.execute_reply": "2024-05-06T07:25:49.523344Z",
     "shell.execute_reply.started": "2024-05-06T07:25:44.541896Z"
    },
    "papermill": {
     "duration": null,
     "end_time": null,
     "exception": null,
     "start_time": null,
     "status": "pending"
    },
    "tags": []
   },
   "outputs": [],
   "source": [
    "#Given an integer array nums, return an array answer such that answer[i] is equal to the product of all the elements of nums except nums[i].\n",
    "\n",
    "#The product of any prefix or suffix of nums is guaranteed to fit in a 32-bit integer.\n",
    "\n",
    "def productExceptSelf(nums):\n",
    "    final=[1]*len(nums)\n",
    "    pre=1\n",
    "    for i in range(len(nums)):\n",
    "        final[i]=pre\n",
    "        pre=pre*nums[i]\n",
    "    suf=1\n",
    "    for i in range(len(nums)-1,-1,-1):\n",
    "        final[i]=final[i]*suf\n",
    "        suf=suf*nums[i]\n",
    "    return final\n",
    "nums=input().split()\n",
    "nums=[int(i)for i in nums]\n",
    "r=productExceptSelf(nums) \n",
    "print(r)"
   ]
  },
  {
   "cell_type": "code",
   "execution_count": null,
   "id": "04fc4912",
   "metadata": {
    "execution": {
     "iopub.execute_input": "2024-05-06T15:22:20.243737Z",
     "iopub.status.busy": "2024-05-06T15:22:20.243260Z",
     "iopub.status.idle": "2024-05-06T15:22:26.187113Z",
     "shell.execute_reply": "2024-05-06T15:22:26.185447Z",
     "shell.execute_reply.started": "2024-05-06T15:22:20.243704Z"
    },
    "papermill": {
     "duration": null,
     "end_time": null,
     "exception": null,
     "start_time": null,
     "status": "pending"
    },
    "tags": []
   },
   "outputs": [],
   "source": [
    "#Given an integer array nums and an integer k, return the k most frequent elements. You may return the answer in any order.\n",
    "\n",
    "from collections import Counter\n",
    "\n",
    "def TopKfreqelements(nums,k):\n",
    "    return [num for num,_ in Counter(nums).most_common(k)]\n",
    "nums=input().split()\n",
    "nums=[int(i)for i in nums]\n",
    "k=int(input())\n",
    "r=TopKfreqelements(nums,k)\n",
    "print(r)"
   ]
  },
  {
   "cell_type": "code",
   "execution_count": null,
   "id": "595f6795",
   "metadata": {
    "execution": {
     "iopub.execute_input": "2024-05-07T06:17:16.738938Z",
     "iopub.status.busy": "2024-05-07T06:17:16.738259Z",
     "iopub.status.idle": "2024-05-07T06:17:30.041562Z",
     "shell.execute_reply": "2024-05-07T06:17:30.040293Z",
     "shell.execute_reply.started": "2024-05-07T06:17:16.738904Z"
    },
    "papermill": {
     "duration": null,
     "end_time": null,
     "exception": null,
     "start_time": null,
     "status": "pending"
    },
    "tags": []
   },
   "outputs": [],
   "source": [
    "#You are given a 0-indexed string s of even length n. The string consists of exactly n / 2 opening brackets '[' and n / 2 closing brackets ']'.\n",
    "\n",
    "def minswap(s):\n",
    "    res=0\n",
    "    st=0\n",
    "    for i in s:\n",
    "        if i=='[':\n",
    "            st+=1\n",
    "        elif not st:\n",
    "            st+=1\n",
    "            res+=1\n",
    "        else:\n",
    "            st-=1\n",
    "    return res\n",
    "s=input()\n",
    "r=minswap(s)\n",
    "print(r)"
   ]
  },
  {
   "cell_type": "code",
   "execution_count": null,
   "id": "6e7c8929",
   "metadata": {
    "execution": {
     "iopub.execute_input": "2024-05-07T16:06:59.483431Z",
     "iopub.status.busy": "2024-05-07T16:06:59.482346Z",
     "iopub.status.idle": "2024-05-07T16:07:18.284391Z",
     "shell.execute_reply": "2024-05-07T16:07:18.283326Z",
     "shell.execute_reply.started": "2024-05-07T16:06:59.483279Z"
    },
    "papermill": {
     "duration": null,
     "end_time": null,
     "exception": null,
     "start_time": null,
     "status": "pending"
    },
    "tags": []
   },
   "outputs": [],
   "source": [
    "#Given an integer array nums, rotate the array to the right by k steps, where k is non-negative.\n",
    "\n",
    "def RotateArray(nums,k):\n",
    "    def reverse(start,end):\n",
    "        while start<end:\n",
    "            nums[start],nums[end]=nums[end],nums[start]\n",
    "            start,end=start+1,end-1\n",
    "    n=len(nums)\n",
    "    k%=n\n",
    "    reverse(0,n-1)\n",
    "    reverse(0,k-1)\n",
    "    reverse(k,n-1)\n",
    "    return nums\n",
    "nums=input().split()\n",
    "nums=[int(i)for i in nums]\n",
    "k=int(input())\n",
    "r=RotateArray(nums,k)\n",
    "print(r)"
   ]
  },
  {
   "cell_type": "code",
   "execution_count": null,
   "id": "d3c27c55",
   "metadata": {
    "execution": {
     "iopub.execute_input": "2024-05-07T17:15:34.116320Z",
     "iopub.status.busy": "2024-05-07T17:15:34.115910Z",
     "iopub.status.idle": "2024-05-07T17:15:42.430542Z",
     "shell.execute_reply": "2024-05-07T17:15:42.429191Z",
     "shell.execute_reply.started": "2024-05-07T17:15:34.116290Z"
    },
    "papermill": {
     "duration": null,
     "end_time": null,
     "exception": null,
     "start_time": null,
     "status": "pending"
    },
    "tags": []
   },
   "outputs": [],
   "source": [
    "#2390. Removing Stars From a String\n",
    "#You are given a string s, which contains stars *.In one operation, you can:\n",
    "\n",
    "#Choose a star in s.Remove the closest non-star character to its left, as well as remove the star itself.\n",
    "#Return the string after all stars have been removed.\n",
    "def RemoveStar(s):\n",
    "    st=[]\n",
    "    for i in s:\n",
    "        if i=='*'and st:\n",
    "            st.pop()\n",
    "        else:\n",
    "            st.append(i)\n",
    "    return ''.join(st)\n",
    "s=input()\n",
    "r=RemoveStar(s)\n",
    "print(r)"
   ]
  },
  {
   "cell_type": "code",
   "execution_count": null,
   "id": "12788cc8",
   "metadata": {
    "execution": {
     "iopub.execute_input": "2024-05-09T06:06:24.105075Z",
     "iopub.status.busy": "2024-05-09T06:06:24.104496Z",
     "iopub.status.idle": "2024-05-09T06:06:27.238149Z",
     "shell.execute_reply": "2024-05-09T06:06:27.236673Z",
     "shell.execute_reply.started": "2024-05-09T06:06:24.105042Z"
    },
    "papermill": {
     "duration": null,
     "end_time": null,
     "exception": null,
     "start_time": null,
     "status": "pending"
    },
    "tags": []
   },
   "outputs": [],
   "source": [
    "#3. Longest Substring Without Repeating Characters\n",
    "#Given a string s, find the length of the longest substringwithout repeating characters.\n",
    "\n",
    "def lengthOfLongestSubstring(s):\n",
    "    max_len=0\n",
    "    cur_sub=\"\"\n",
    "    for i in s:\n",
    "        if i in cur_sub:\n",
    "            cur_sub=cur_sub[cur_sub.rfind(i)+1:]+i\n",
    "        else:\n",
    "            cur_sub+=i\n",
    "            max_len=max(len(cur_sub),max_len)\n",
    "    return max_len\n",
    "s=input()\n",
    "lengthOfLongestSubstring(s)"
   ]
  },
  {
   "cell_type": "code",
   "execution_count": null,
   "id": "2c0ace5d",
   "metadata": {
    "papermill": {
     "duration": null,
     "end_time": null,
     "exception": null,
     "start_time": null,
     "status": "pending"
    },
    "tags": []
   },
   "outputs": [],
   "source": [
    "#162. Find Peak Element\n",
    "#A peak element is an element that is strictly greater than its neighbors.Given a 0-indexed integer array nums, find a peak element, \n",
    "#and return its index. If the array contains multiple peaks, return the index to any of the peaks.\n",
    "\n",
    "def PeakElement(nums):\n",
    "    l,r=0,len(nums)-1\n",
    "    while l<r:\n",
    "        mid=l+int((r-l)//2)\n",
    "        if nums[mid]<nums[mid+1]:\n",
    "            l=mid+1\n",
    "        else:\n",
    "            h=mid\n",
    "    return l\n",
    "nums=input().split()\n",
    "nums=[int(i)for i in nums]\n",
    "print(PeakElement(nums))"
   ]
  },
  {
   "cell_type": "code",
   "execution_count": null,
   "id": "b69e4b0a",
   "metadata": {
    "execution": {
     "iopub.execute_input": "2024-05-13T15:37:55.049855Z",
     "iopub.status.busy": "2024-05-13T15:37:55.049407Z",
     "iopub.status.idle": "2024-05-13T15:38:05.703425Z",
     "shell.execute_reply": "2024-05-13T15:38:05.702493Z",
     "shell.execute_reply.started": "2024-05-13T15:37:55.049821Z"
    },
    "papermill": {
     "duration": null,
     "end_time": null,
     "exception": null,
     "start_time": null,
     "status": "pending"
    },
    "tags": []
   },
   "outputs": [],
   "source": [
    "#quadruples\n",
    "def quadruples(s,nums,target):\n",
    "    a=[]\n",
    "    for i in range(len(nums)):\n",
    "        for j in range(i+1,len(nums)):\n",
    "            for k in range(j+1,len(nums)):\n",
    "                for l in range(k+1,len(nums)):\n",
    "                    if nums[i]+nums[j]+nums[k]+nums[l]==target:\n",
    "                        a.append((nums[i],nums[j],nums[k],nums[l]))\n",
    "    return sorted(a)\n",
    "s=int(input())\n",
    "nums=input().split()\n",
    "nums=[int(i)for i in nums]\n",
    "target=int(input())\n",
    "r=quadruples(s,nums,target)\n",
    "for i in r:\n",
    "    print(*i)"
   ]
  },
  {
   "cell_type": "code",
   "execution_count": null,
   "id": "19a6227e",
   "metadata": {
    "execution": {
     "iopub.execute_input": "2024-05-14T05:47:53.989726Z",
     "iopub.status.busy": "2024-05-14T05:47:53.988740Z",
     "iopub.status.idle": "2024-05-14T05:48:15.015838Z",
     "shell.execute_reply": "2024-05-14T05:48:15.014604Z",
     "shell.execute_reply.started": "2024-05-14T05:47:53.989685Z"
    },
    "papermill": {
     "duration": null,
     "end_time": null,
     "exception": null,
     "start_time": null,
     "status": "pending"
    },
    "tags": []
   },
   "outputs": [],
   "source": [
    "#Read the input values: numFiles and fileSizes.For each file size in fileSizes:\n",
    "#a. Calculate the sum of the digits of the file size.\n",
    "#b. Store the sum as the bucket ID.\n",
    "#Output the bucket IDs for each file.\n",
    "def cal_buc_id(file_size):\n",
    "    return sum(int(i) for i in str(file_size))\n",
    "def find_buc_id(nofiles,file_sizes):\n",
    "    return [cal_buc_id(file_size)for file_size in file_sizes]\n",
    "nofiles=int(input())\n",
    "file_sizes=input().split()\n",
    "file_sizes=[int(i)for i in file_sizes]\n",
    "r=find_buc_id(nofiles,file_sizes)\n",
    "print(*r)"
   ]
  },
  {
   "cell_type": "code",
   "execution_count": null,
   "id": "c2d65637",
   "metadata": {
    "execution": {
     "iopub.execute_input": "2024-05-14T06:32:18.144657Z",
     "iopub.status.busy": "2024-05-14T06:32:18.144274Z",
     "iopub.status.idle": "2024-05-14T06:32:22.656173Z",
     "shell.execute_reply": "2024-05-14T06:32:22.655150Z",
     "shell.execute_reply.started": "2024-05-14T06:32:18.144626Z"
    },
    "papermill": {
     "duration": null,
     "end_time": null,
     "exception": null,
     "start_time": null,
     "status": "pending"
    },
    "tags": []
   },
   "outputs": [],
   "source": [
    "#pizza shop makes vegan pizzas as well as meat based pizzas. Thecustomers place N orders at the shop and their order number gets\n",
    "#printed on their bill. The shop displays k out of N both-vegan and meatbased pizza orders on their display screen at a single time.\n",
    "\n",
    "def meat_pizza(numoforders, size, orders):\n",
    "    li = []\n",
    "    for i in range(len(orders) - 2):\n",
    "        ord = orders[i:i + 3]\n",
    "        lis = []\n",
    "        for j in ord:\n",
    "            if int(j) < 0:\n",
    "                lis.append(int(j))\n",
    "                break\n",
    "        if len(lis) == 0:\n",
    "            li.append(0)\n",
    "        else:\n",
    "            li.extend(lis)\n",
    "    return li\n",
    "\n",
    "numoforders = int(input())\n",
    "size = int(input())\n",
    "orders = input().split()\n",
    "print(meat_pizza(numoforders, size, orders))\n"
   ]
  },
  {
   "cell_type": "code",
   "execution_count": null,
   "id": "0b3f38b1",
   "metadata": {
    "execution": {
     "iopub.execute_input": "2024-05-14T16:09:32.633092Z",
     "iopub.status.busy": "2024-05-14T16:09:32.632666Z",
     "iopub.status.idle": "2024-05-14T16:09:35.639803Z",
     "shell.execute_reply": "2024-05-14T16:09:35.637666Z",
     "shell.execute_reply.started": "2024-05-14T16:09:32.633064Z"
    },
    "papermill": {
     "duration": null,
     "end_time": null,
     "exception": null,
     "start_time": null,
     "status": "pending"
    },
    "tags": []
   },
   "outputs": [],
   "source": [
    "#1930. Unique Length-3 Palindromic Subsequences\n",
    "#Given a string s, return the number of unique palindromes of length three that are a subsequence of s.\n",
    "\n",
    "from string import ascii_lowercase\n",
    "def UniquePalindromeCount(s):\n",
    "    seq=0\n",
    "    for i in ascii_lowercase:\n",
    "        l,r=s.find(i),s.rfind(i)\n",
    "        if l!=r:\n",
    "            seq+=len(set(s[l+1:r]))\n",
    "    return seq \n",
    "s=input()\n",
    "UniquePalindromeCount(s)"
   ]
  },
  {
   "cell_type": "code",
   "execution_count": null,
   "id": "b76add57",
   "metadata": {
    "execution": {
     "iopub.execute_input": "2024-05-14T17:33:46.018981Z",
     "iopub.status.busy": "2024-05-14T17:33:46.018563Z"
    },
    "papermill": {
     "duration": null,
     "end_time": null,
     "exception": null,
     "start_time": null,
     "status": "pending"
    },
    "tags": []
   },
   "outputs": [],
   "source": [
    "#523. Continuous Subarray Sum\n",
    "#Given an integer array nums and an integer k, return true if nums has a good subarray or false otherwise.\n",
    "#A good subarray is a subarray where:its length is at least two, and the sum of the elements of the subarray is a multiple of k.\n",
    "\n",
    "def contsubarraysum(nums,k):\n",
    "    res={0:-1}\n",
    "    presum=0\n",
    "    for i in range(len(nums)):\n",
    "        presum+=nums[i]\n",
    "        rem=presum%k\n",
    "        if rem in res:\n",
    "            if i-res[rem]>1:\n",
    "                return True\n",
    "        else:\n",
    "            res[rem]=i\n",
    "    return False\n",
    "nums=input().split()\n",
    "nums=[int(i)for i in nums]\n",
    "k=int(input())\n",
    "contsubarraysum(nums,k)"
   ]
  },
  {
   "cell_type": "code",
   "execution_count": null,
   "id": "dd78443c",
   "metadata": {
    "execution": {
     "iopub.execute_input": "2024-05-30T04:56:39.080608Z",
     "iopub.status.busy": "2024-05-30T04:56:39.080127Z",
     "iopub.status.idle": "2024-05-30T04:56:45.072948Z",
     "shell.execute_reply": "2024-05-30T04:56:45.071879Z",
     "shell.execute_reply.started": "2024-05-30T04:56:39.080572Z"
    },
    "papermill": {
     "duration": null,
     "end_time": null,
     "exception": null,
     "start_time": null,
     "status": "pending"
    },
    "tags": []
   },
   "outputs": [],
   "source": [
    "#2086. Minimum Number of Food Buckets to Feed the Hamsters\n",
    "#You are given a 0-indexed string hamsters where hamsters[i] is either:\n",
    "#'H' indicating that there is a hamster at index i, or\n",
    "#'.' indicating that index i is empty.\n",
    "def minimumBuckets(hamsters):\n",
    "        n=len(hamsters)\n",
    "        i,res=0,0\n",
    "        while i<n:\n",
    "            if hamsters[i]=='H':\n",
    "                if i+1<n and hamsters[i+1]=='.':\n",
    "                    i+=2\n",
    "                    res+=1\n",
    "                elif i-1>=0 and hamsters[i-1]=='.':\n",
    "                    res+=1\n",
    "                else:\n",
    "                    return -1 \n",
    "            i+=1\n",
    "        return res\n",
    "hamsters=input()\n",
    "print( minimumBuckets(hamsters))"
   ]
  },
  {
   "cell_type": "code",
   "execution_count": null,
   "id": "24816215",
   "metadata": {
    "execution": {
     "iopub.execute_input": "2024-05-30T05:00:29.339857Z",
     "iopub.status.busy": "2024-05-30T05:00:29.338855Z",
     "iopub.status.idle": "2024-05-30T05:00:33.147249Z",
     "shell.execute_reply": "2024-05-30T05:00:33.146153Z",
     "shell.execute_reply.started": "2024-05-30T05:00:29.339816Z"
    },
    "papermill": {
     "duration": null,
     "end_time": null,
     "exception": null,
     "start_time": null,
     "status": "pending"
    },
    "tags": []
   },
   "outputs": [],
   "source": [
    "#3163. String Compression III\n",
    "#Given a string word, compress it using the following algorithm:\n",
    "#Begin with an empty string comp. While word is not empty, use the following operation:\n",
    "#Remove a maximum length prefix of word made of a single character c repeating at most 9 times.\n",
    "#Append the length of the prefix followed by c to comp.\n",
    "#Return the string comp.\n",
    "def compressedString(word):\n",
    "        comp=\"\"\n",
    "        while word:\n",
    "            char=word[0]\n",
    "            count=1\n",
    "            for i in range(1,len(word)):\n",
    "                if word[i]==char and count<9:\n",
    "                    count+=1\n",
    "                else:\n",
    "                    break\n",
    "            comp+=str(count)+char\n",
    "            word=word[count:]\n",
    "        return comp\n",
    "word=input()\n",
    "print(compressedString(word))"
   ]
  },
  {
   "cell_type": "code",
   "execution_count": null,
   "id": "015498ce",
   "metadata": {
    "execution": {
     "iopub.execute_input": "2024-06-25T06:41:24.790657Z",
     "iopub.status.busy": "2024-06-25T06:41:24.789575Z",
     "iopub.status.idle": "2024-06-25T06:41:30.225009Z",
     "shell.execute_reply": "2024-06-25T06:41:30.223906Z",
     "shell.execute_reply.started": "2024-06-25T06:41:24.790611Z"
    },
    "papermill": {
     "duration": null,
     "end_time": null,
     "exception": null,
     "start_time": null,
     "status": "pending"
    },
    "tags": []
   },
   "outputs": [],
   "source": [
    "#2535. Difference Between Element Sum and Digit Sum of an Array\n",
    "#Input: nums = [1,15,6,3]\n",
    "#Output: 9\n",
    "#Explanation: \n",
    "#The element sum of nums is 1 + 15 + 6 + 3 = 25.\n",
    "#The digit sum of nums is 1 + 1 + 5 + 6 + 3 = 16.\n",
    "#The absolute difference between the element sum and digit sum is |25 - 16| = 9.\n",
    "\n",
    "def find_dif_between_sum_and_digits(nums):\n",
    "    ele_sum=sum(nums)\n",
    "    dig_sum=0\n",
    "    for num in nums:\n",
    "        for i in str(num):\n",
    "            dig_sum+=int(i)\n",
    "    difference=ele_sum-dig_sum\n",
    "    return difference\n",
    "nums=list(map(int,input().split()))\n",
    "print(find_dif_between_sum_and_digits(nums))"
   ]
  },
  {
   "cell_type": "code",
   "execution_count": null,
   "id": "7104c7d5",
   "metadata": {
    "execution": {
     "iopub.execute_input": "2024-07-03T05:19:41.493969Z",
     "iopub.status.busy": "2024-07-03T05:19:41.493564Z",
     "iopub.status.idle": "2024-07-03T05:19:45.543383Z",
     "shell.execute_reply": "2024-07-03T05:19:45.542170Z",
     "shell.execute_reply.started": "2024-07-03T05:19:41.493935Z"
    },
    "papermill": {
     "duration": null,
     "end_time": null,
     "exception": null,
     "start_time": null,
     "status": "pending"
    },
    "tags": []
   },
   "outputs": [],
   "source": [
    "#armstrong number\n",
    "def armstrong(num):\n",
    "    a=str(num)\n",
    "    n=len(a)\n",
    "    sum=0\n",
    "    for i in a:\n",
    "        sum+=int(i)**n\n",
    "    return sum==num\n",
    "num=int(input())\n",
    "print(armstrong(num))"
   ]
  }
 ],
 "metadata": {
  "kaggle": {
   "accelerator": "none",
   "dataSources": [],
   "dockerImageVersionId": 30698,
   "isGpuEnabled": false,
   "isInternetEnabled": false,
   "language": "python",
   "sourceType": "notebook"
  },
  "kernelspec": {
   "display_name": "Python 3",
   "language": "python",
   "name": "python3"
  },
  "language_info": {
   "codemirror_mode": {
    "name": "ipython",
    "version": 3
   },
   "file_extension": ".py",
   "mimetype": "text/x-python",
   "name": "python",
   "nbconvert_exporter": "python",
   "pygments_lexer": "ipython3",
   "version": "3.10.13"
  },
  "papermill": {
   "default_parameters": {},
   "duration": 4.631508,
   "end_time": "2024-07-03T06:18:48.551426",
   "environment_variables": {},
   "exception": true,
   "input_path": "__notebook__.ipynb",
   "output_path": "__notebook__.ipynb",
   "parameters": {},
   "start_time": "2024-07-03T06:18:43.919918",
   "version": "2.5.0"
  }
 },
 "nbformat": 4,
 "nbformat_minor": 5
}
